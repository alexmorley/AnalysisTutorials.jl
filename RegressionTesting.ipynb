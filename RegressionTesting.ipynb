{
 "cells": [
  {
   "cell_type": "markdown",
   "metadata": {},
   "source": [
    "### Doing some linear regressions using base julia, just for fun"
   ]
  },
  {
   "cell_type": "markdown",
   "metadata": {},
   "source": [
    "Construct a dataset"
   ]
  },
  {
   "cell_type": "code",
   "execution_count": 13,
   "metadata": {},
   "outputs": [],
   "source": [
    "realβ = 100\n",
    "popX = sort(rand(100))\n",
    "popY = (popX * realβ) + rand(100) - 0.5;"
   ]
  },
  {
   "cell_type": "markdown",
   "metadata": {},
   "source": [
    "Plot it"
   ]
  },
  {
   "cell_type": "code",
   "execution_count": 14,
   "metadata": {},
   "outputs": [
    {
     "data": {
      "image/png": "[encoded data removed]",
      "text/plain": [
       "PyPlot.Figure(PyObject <matplotlib.figure.Figure object at 0x7f65f06b97d0>)"
      ]
     },
     "metadata": {},
     "output_type": "display_data"
    }
   ],
   "source": [
    "using PyPlot\n",
    "figure(figsize=(2,2))\n",
    "scatter(popX, popY, 0.6)\n",
    "xlabel(\"X\"); ylabel(\"Y\");"
   ]
  },
  {
   "cell_type": "markdown",
   "metadata": {},
   "source": [
    "To get the beta coefficient of the regression we need to calculate:\n",
    "\n",
    "           ∑xy\n",
    "    beta = ---\n",
    "           ∑x2\n",
    "          \n",
    "where ∑xy are is the sum of the cross-products of the devations of X & Y from the mean."
   ]
  },
  {
   "cell_type": "code",
   "execution_count": 15,
   "metadata": {},
   "outputs": [
    {
     "data": {
      "text/plain": [
       "regress (generic function with 1 method)"
      ]
     },
     "execution_count": 15,
     "metadata": {},
     "output_type": "execute_result"
    }
   ],
   "source": [
    "# sum of cross products\n",
    "∑xy(X,Y) = sum(X .* Y) - (sum(X)*sum(Y))/length(X)\n",
    "# Regression Coefficient\n",
    "β(X,Y) = ∑xy(X,Y)/∑xy(X,X)\n",
    "# intercept\n",
    "α(X,Y,b=β(X,Y)) = mean(Y) - b*mean(X) \n",
    "# full regression\n",
    "regress(X,Y) = begin\n",
    "    b = β(X,Y)\n",
    "    a = α(X,Y,b)\n",
    "    return b,a\n",
    "end"
   ]
  },
  {
   "cell_type": "markdown",
   "metadata": {},
   "source": [
    "Let's check that all makes sense"
   ]
  },
  {
   "cell_type": "code",
   "execution_count": 16,
   "metadata": {},
   "outputs": [
    {
     "data": {
      "image/png": "[encoded data removed]",
      "text/plain": [
       "PyPlot.Figure(PyObject <matplotlib.figure.Figure object at 0x7f65f056abd0>)"
      ]
     },
     "metadata": {},
     "output_type": "display_data"
    }
   ],
   "source": [
    "figure(figsize=(2,2))\n",
    "scatter(popX, popY, 0.6)\n",
    "m,c = regress(popX,popY)\n",
    "plot(popX,(popX.*m).+c, color=\"r\")\n",
    "xlabel(\"X\"); ylabel(\"Y\");"
   ]
  },
  {
   "cell_type": "markdown",
   "metadata": {},
   "source": [
    "To do any stastics on our regression we need to calculate a few more things\n",
    "    total sum of squares: \"the overall variability of the data\"\n",
    "    regression sum of squares: \"variability of regression line\"\n",
    "    residual sum of squares: \"error in regression sum of squares\"\n",
    "    residual mean squares: \"normalise by degrees of freedom\"\n",
    "    \n",
    "R-squared (\"strength of the relationship\") is simply:\n",
    "    \n",
    "    regression SS\n",
    "    ---------------\n",
    "    total SS\n",
    "    \n",
    "To calculate the F-statisctics (ANOVA) we simply take:\n",
    "    \n",
    "    regression MS\n",
    "    ---------------\n",
    "    residual MS\n",
    "    \n",
    "To calculate a t-statistic (student's T) we first need to get the standard error of the coefficient:\n",
    "\n",
    "                   resuidual MS\n",
    "    varianceBeta = ------------\n",
    "                   sum of squares of X\n",
    "                   \n",
    "Then divide the difference from the hypothesis by the square root of the variance\n",
    "\n",
    "    b - beta0 (hypothesis)\n",
    "    ----------------------\n",
    "    SEBeta    "
   ]
  },
  {
   "cell_type": "code",
   "execution_count": 17,
   "metadata": {},
   "outputs": [
    {
     "data": {
      "text/plain": [
       "t (generic function with 3 methods)"
      ]
     },
     "execution_count": 17,
     "metadata": {},
     "output_type": "execute_result"
    }
   ],
   "source": [
    "# sum of squares\n",
    "totSS(Y) = ∑xy(Y,Y) # total\n",
    "regSS(X,Y,b=β(X,Y)) = b*∑xy(X,Y) # regression\n",
    "resSS(X,Y,b=β(X,Y)) = totSS(Y) - regSS(X,Y,b) # residual\n",
    "\n",
    "# residual mean squares\n",
    "resMS(X,Y) = (resSS(X,Y)/(length(X)-2))\n",
    "# variance\n",
    "varβ(X,Y) = resMS(X,Y)/∑xy(X,X)\n",
    "\n",
    "# Statistics\n",
    "F(X,Y) = regSS(X,Y)/resMS(X,Y)\n",
    "R²(X,Y) = regSS(X,Y)/totSS(Y)\n",
    "t(X,Y, b=β(X,Y), β₀=0) = (b - β₀)/√(varβ(X,Y))"
   ]
  },
  {
   "cell_type": "code",
   "execution_count": 18,
   "metadata": {},
   "outputs": [
    {
     "data": {
      "image/png": "[encoded data removed]",
      "text/plain": [
       "PyPlot.Figure(PyObject <matplotlib.figure.Figure object at 0x7f65f03343d0>)"
      ]
     },
     "metadata": {},
     "output_type": "display_data"
    },
    {
     "data": {
      "text/plain": [
       "PyObject <matplotlib.text.Text object at 0x7f65f0233810>"
      ]
     },
     "execution_count": 18,
     "metadata": {},
     "output_type": "execute_result"
    }
   ],
   "source": [
    "figure(figsize=(2,2))\n",
    "ax = subplot(111)\n",
    "scatter(popX, popY, 0.6)\n",
    "m,c = regress(popX,popY)\n",
    "plot(popX,(popX.*m).+c, color=\"r\")\n",
    "xlabel(\"X\"); ylabel(\"Y\");\n",
    "text(0.1,0.5,\"\"\"\n",
    "    R² = $(signif(R²(popX,popY),4))\n",
    "    F = $(signif(F(popX,popY),4))\n",
    "    t = $(signif(t(popX,popY),4))\n",
    "    \"\"\", transform=transform=ax[:transAxes])"
   ]
  }
 ],
 "metadata": {
  "kernelspec": {
   "display_name": "Julia 0.6.0",
   "language": "julia",
   "name": "julia-0.6"
  },
  "language_info": {
   "file_extension": ".jl",
   "mimetype": "application/julia",
   "name": "julia",
   "version": "0.6.0"
  }
 },
 "nbformat": 4,
 "nbformat_minor": 2
}
